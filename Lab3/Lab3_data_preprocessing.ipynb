{
 "cells": [
  {
   "cell_type": "markdown",
   "metadata": {},
   "source": [
    "# Lab 3: Data Preprocessing"
   ]
  },
  {
   "cell_type": "markdown",
   "metadata": {},
   "source": [
    "In this assignment, we will learn how to explore the raw data and preprocess it. \n",
    "\n",
    "The dataset we are going to exlore is an insurance data. It provides different features of each user as follows:\n",
    "* age: age of the user\n",
    "* sex: gender of the user\n",
    "* bmi: body mass index, providing an understanding of body\n",
    "* children: number of children covered by health insurance / number of dependents\n",
    "* smoker: smoker or not\n",
    "* region: the user's residential area in the US, northeast, southeast, southwest, northwest.\n",
    "\n",
    "Additionally, the medical cost of each user is also provided: \n",
    "* charges: the medical cost \n",
    "\n",
    "Please follow Lecture 5_data_understanding and Lecture 6_data_preprocessing to complete following questions. "
   ]
  },
  {
   "cell_type": "markdown",
   "metadata": {},
   "source": [
    "### Q1. Load data with Pandas and output the basic information of this dataset, such as the features and their data types.  Which features are numerical features and which users are categorical features?\n"
   ]
  },
  {
   "cell_type": "code",
   "execution_count": 36,
   "metadata": {},
   "outputs": [
    {
     "name": "stdout",
     "output_type": "stream",
     "text": [
      "<class 'pandas.core.frame.DataFrame'>\n",
      "RangeIndex: 1338 entries, 0 to 1337\n",
      "Data columns (total 7 columns):\n",
      " #   Column    Non-Null Count  Dtype  \n",
      "---  ------    --------------  -----  \n",
      " 0   age       1338 non-null   int64  \n",
      " 1   sex       1338 non-null   object \n",
      " 2   bmi       1338 non-null   float64\n",
      " 3   children  1338 non-null   int64  \n",
      " 4   smoker    1338 non-null   object \n",
      " 5   region    1338 non-null   object \n",
      " 6   charges   1338 non-null   float64\n",
      "dtypes: float64(2), int64(2), object(3)\n",
      "memory usage: 73.3+ KB\n"
     ]
    }
   ],
   "source": [
    "import numpy as np\n",
    "import pandas as pd\n",
    "\n",
    "\n",
    "data = pd.read_csv(\"insurance.csv\")\n",
    "data.info()\n",
    "# your code\n"
   ]
  },
  {
   "cell_type": "markdown",
   "metadata": {},
   "source": [
    "### Q2. Check whether there are missing values in this dataset."
   ]
  },
  {
   "cell_type": "code",
   "execution_count": 37,
   "metadata": {},
   "outputs": [
    {
     "data": {
      "text/plain": "age         0\nsex         0\nbmi         0\nchildren    0\nsmoker      0\nregion      0\ncharges     0\ndtype: int64"
     },
     "execution_count": 37,
     "metadata": {},
     "output_type": "execute_result"
    }
   ],
   "source": [
    "data.isnull().sum()\n",
    "# your code"
   ]
  },
  {
   "cell_type": "markdown",
   "metadata": {},
   "source": [
    "### Q3. Visualize all numerical features with histogram plot to see the distribution of each numerical feature. \n"
   ]
  },
  {
   "cell_type": "code",
   "execution_count": 38,
   "metadata": {},
   "outputs": [
    {
     "data": {
      "text/plain": "<Figure size 1440x1080 with 4 Axes>",
      "image/png": "[encoded data removed]"
     },
     "metadata": {
      "needs_background": "light"
     },
     "output_type": "display_data"
    }
   ],
   "source": [
    "import matplotlib.pyplot as plt\n",
    "data.hist(bins=50, figsize=(20,15))\n",
    "plt.show()\n",
    "# your code\n",
    "\n"
   ]
  },
  {
   "cell_type": "markdown",
   "metadata": {},
   "source": [
    "### Q4. Use corr() function of Pandas to show the correlation between different numerical features"
   ]
  },
  {
   "cell_type": "code",
   "execution_count": 39,
   "metadata": {},
   "outputs": [
    {
     "data": {
      "text/plain": "<pandas.io.formats.style.Styler at 0x20e8a610f40>",
      "text/html": "<style  type=\"text/css\" >\n#T_f23ad_row0_col0,#T_f23ad_row1_col1,#T_f23ad_row2_col2,#T_f23ad_row3_col3{\n            background-color:  #023858;\n            color:  #f1f1f1;\n        }#T_f23ad_row0_col1{\n            background-color:  #f0eaf4;\n            color:  #000000;\n        }#T_f23ad_row0_col2{\n            background-color:  #fbf3f9;\n            color:  #000000;\n        }#T_f23ad_row0_col3{\n            background-color:  #d1d2e6;\n            color:  #000000;\n        }#T_f23ad_row1_col0{\n            background-color:  #f5eef6;\n            color:  #000000;\n        }#T_f23ad_row1_col2,#T_f23ad_row2_col0,#T_f23ad_row2_col1,#T_f23ad_row2_col3{\n            background-color:  #fff7fb;\n            color:  #000000;\n        }#T_f23ad_row1_col3{\n            background-color:  #e9e5f1;\n            color:  #000000;\n        }#T_f23ad_row3_col0{\n            background-color:  #cacee5;\n            color:  #000000;\n        }#T_f23ad_row3_col1{\n            background-color:  #dedcec;\n            color:  #000000;\n        }#T_f23ad_row3_col2{\n            background-color:  #f7f0f7;\n            color:  #000000;\n        }</style><table id=\"T_f23ad_\" ><thead>    <tr>        <th class=\"blank level0\" ></th>        <th class=\"col_heading level0 col0\" >age</th>        <th class=\"col_heading level0 col1\" >bmi</th>        <th class=\"col_heading level0 col2\" >children</th>        <th class=\"col_heading level0 col3\" >charges</th>    </tr></thead><tbody>\n                <tr>\n                        <th id=\"T_f23ad_level0_row0\" class=\"row_heading level0 row0\" >age</th>\n                        <td id=\"T_f23ad_row0_col0\" class=\"data row0 col0\" >1.000000</td>\n                        <td id=\"T_f23ad_row0_col1\" class=\"data row0 col1\" >0.109272</td>\n                        <td id=\"T_f23ad_row0_col2\" class=\"data row0 col2\" >0.042469</td>\n                        <td id=\"T_f23ad_row0_col3\" class=\"data row0 col3\" >0.299008</td>\n            </tr>\n            <tr>\n                        <th id=\"T_f23ad_level0_row1\" class=\"row_heading level0 row1\" >bmi</th>\n                        <td id=\"T_f23ad_row1_col0\" class=\"data row1 col0\" >0.109272</td>\n                        <td id=\"T_f23ad_row1_col1\" class=\"data row1 col1\" >1.000000</td>\n                        <td id=\"T_f23ad_row1_col2\" class=\"data row1 col2\" >0.012759</td>\n                        <td id=\"T_f23ad_row1_col3\" class=\"data row1 col3\" >0.198341</td>\n            </tr>\n            <tr>\n                        <th id=\"T_f23ad_level0_row2\" class=\"row_heading level0 row2\" >children</th>\n                        <td id=\"T_f23ad_row2_col0\" class=\"data row2 col0\" >0.042469</td>\n                        <td id=\"T_f23ad_row2_col1\" class=\"data row2 col1\" >0.012759</td>\n                        <td id=\"T_f23ad_row2_col2\" class=\"data row2 col2\" >1.000000</td>\n                        <td id=\"T_f23ad_row2_col3\" class=\"data row2 col3\" >0.067998</td>\n            </tr>\n            <tr>\n                        <th id=\"T_f23ad_level0_row3\" class=\"row_heading level0 row3\" >charges</th>\n                        <td id=\"T_f23ad_row3_col0\" class=\"data row3 col0\" >0.299008</td>\n                        <td id=\"T_f23ad_row3_col1\" class=\"data row3 col1\" >0.198341</td>\n                        <td id=\"T_f23ad_row3_col2\" class=\"data row3 col2\" >0.067998</td>\n                        <td id=\"T_f23ad_row3_col3\" class=\"data row3 col3\" >1.000000</td>\n            </tr>\n    </tbody></table>"
     },
     "execution_count": 39,
     "metadata": {},
     "output_type": "execute_result"
    }
   ],
   "source": [
    "correlation = data.corr()\n",
    "correlation.style.background_gradient()\n",
    "# your code\n"
   ]
  },
  {
   "cell_type": "markdown",
   "metadata": {},
   "source": [
    "### Q5. For all categorical features, use bar plot to visualize the number of users within each category."
   ]
  },
  {
   "cell_type": "code",
   "execution_count": 40,
   "metadata": {},
   "outputs": [
    {
     "data": {
      "text/plain": "<Figure size 432x288 with 1 Axes>",
      "image/png": "[encoded data removed]"
     },
     "metadata": {
      "needs_background": "light"
     },
     "output_type": "display_data"
    },
    {
     "data": {
      "text/plain": "<Figure size 432x288 with 1 Axes>",
      "image/png": "[encoded data removed]"
     },
     "metadata": {
      "needs_background": "light"
     },
     "output_type": "display_data"
    },
    {
     "data": {
      "text/plain": "<Figure size 432x288 with 1 Axes>",
      "image/png": "[encoded data removed]"
     },
     "metadata": {
      "needs_background": "light"
     },
     "output_type": "display_data"
    },
    {
     "data": {
      "text/plain": "<Figure size 432x288 with 1 Axes>",
      "image/png": "[encoded data removed]"
     },
     "metadata": {
      "needs_background": "light"
     },
     "output_type": "display_data"
    }
   ],
   "source": [
    "data['region'].value_counts().plot(kind= 'bar')\n",
    "plt.show()\n",
    "data['age'].value_counts().plot(kind= 'bar')\n",
    "plt.show()\n",
    "data['children'].value_counts().plot(kind= 'bar')\n",
    "plt.show()\n",
    "data['smoker'].value_counts().plot(kind= 'bar')\n",
    "plt.show()\n",
    "# your code"
   ]
  },
  {
   "cell_type": "markdown",
   "metadata": {},
   "source": [
    "### Q6. Convert all categorical features into numerical features with Label Encoding or One-Hot Encoding"
   ]
  },
  {
   "cell_type": "code",
   "execution_count": 41,
   "metadata": {},
   "outputs": [
    {
     "name": "stdout",
     "output_type": "stream",
     "text": [
      "0     69\n",
      "1     68\n",
      "2     29\n",
      "33    29\n",
      "27    29\n",
      "28    29\n",
      "29    29\n",
      "30    29\n",
      "32    29\n",
      "34    29\n",
      "10    28\n",
      "36    28\n",
      "3     28\n",
      "9     28\n",
      "8     28\n",
      "31    28\n",
      "7     28\n",
      "6     28\n",
      "5     28\n",
      "4     28\n",
      "35    28\n",
      "24    27\n",
      "26    27\n",
      "25    27\n",
      "23    27\n",
      "22    27\n",
      "13    27\n",
      "12    27\n",
      "11    27\n",
      "38    26\n",
      "16    26\n",
      "15    26\n",
      "14    26\n",
      "39    26\n",
      "37    26\n",
      "17    25\n",
      "41    25\n",
      "40    25\n",
      "18    25\n",
      "21    25\n",
      "20    25\n",
      "19    25\n",
      "42    23\n",
      "43    23\n",
      "44    23\n",
      "45    23\n",
      "46    22\n",
      "Name: age, dtype: int64\n",
      "\n",
      "\n",
      "\n",
      "\n",
      "1    676\n",
      "0    662\n",
      "Name: sex, dtype: int64\n",
      "\n",
      "\n",
      "\n",
      "\n",
      "312    13\n",
      "210     9\n",
      "274     8\n",
      "287     8\n",
      "223     8\n",
      "       ..\n",
      "221     1\n",
      "214     1\n",
      "211     1\n",
      "206     1\n",
      "547     1\n",
      "Name: bmi, Length: 548, dtype: int64\n",
      "\n",
      "\n",
      "\n",
      "\n",
      "0    574\n",
      "1    324\n",
      "2    240\n",
      "3    157\n",
      "4     25\n",
      "5     18\n",
      "Name: children, dtype: int64\n",
      "\n",
      "\n",
      "\n",
      "\n",
      "1    676\n",
      "0    662\n",
      "Name: sex, dtype: int64\n",
      "\n",
      "\n",
      "\n",
      "\n",
      "2    364\n",
      "1    325\n",
      "3    325\n",
      "0    324\n",
      "Name: region, dtype: int64\n",
      "\n",
      "\n",
      "\n",
      "\n",
      "41      2\n",
      "888     1\n",
      "896     1\n",
      "895     1\n",
      "894     1\n",
      "       ..\n",
      "445     1\n",
      "444     1\n",
      "443     1\n",
      "442     1\n",
      "1336    1\n",
      "Name: charges, Length: 1337, dtype: int64\n",
      "\n",
      "\n",
      "\n",
      "\n"
     ]
    }
   ],
   "source": [
    "from sklearn.preprocessing import LabelEncoder\n",
    "# your code\n",
    "labelencoder = LabelEncoder()\n",
    "\n",
    "data['age'] = labelencoder.fit_transform(data['age'])\n",
    "print(data['age'].value_counts())\n",
    "print('\\n\\n\\n')\n",
    "\n",
    "data['sex'] = labelencoder.fit_transform(data['sex'])\n",
    "print(data['sex'].value_counts())\n",
    "print('\\n\\n\\n')\n",
    "\n",
    "data['bmi'] = labelencoder.fit_transform(data['bmi'])\n",
    "print(data['bmi'].value_counts())\n",
    "print('\\n\\n\\n')\n",
    "data['children'] = labelencoder.fit_transform(data['children'])\n",
    "print(data['children'].value_counts())\n",
    "print('\\n\\n\\n')\n",
    "data['smoker'] = labelencoder.fit_transform(data['sex'])\n",
    "print(data['sex'].value_counts())\n",
    "print('\\n\\n\\n')\n",
    "\n",
    "data['region'] = labelencoder.fit_transform(data['region'])\n",
    "print(data['region'].value_counts())\n",
    "print('\\n\\n\\n')\n",
    "\n",
    "data['charges'] = labelencoder.fit_transform(data['charges'])\n",
    "print(data['charges'].value_counts())\n",
    "print('\\n\\n\\n')\n"
   ]
  },
  {
   "cell_type": "markdown",
   "metadata": {},
   "source": [
    "### Q7. Normalize all numerical features"
   ]
  },
  {
   "cell_type": "code",
   "execution_count": 42,
   "metadata": {},
   "outputs": [
    {
     "name": "stdout",
     "output_type": "stream",
     "text": [
      "min : max\n",
      "[0. 0. 0. 0. 0. 0.]\n",
      "[ 46.   1. 547.   5.   1.   3.]\n",
      "normalized data\n",
      "[[0.02173913 0.         0.36014625 0.         0.         1.        ]\n",
      " [0.         1.         0.6398538  0.2        1.         0.6666667 ]\n",
      " [0.2173913  1.         0.6051188  0.6        1.         0.6666667 ]\n",
      " ...\n",
      " [0.         0.         0.7714808  0.         0.         0.6666667 ]\n",
      " [0.06521739 0.         0.26691043 0.         0.         1.        ]\n",
      " [0.9347826  0.         0.41864717 0.         0.         0.33333334]]\n"
     ]
    }
   ],
   "source": [
    "# your code\n",
    "X = data.values[ :, 0:6].astype(dtype=np.float32)\n",
    "x_min = X.min(axis=0)\n",
    "x_max= X.max(axis=0)\n",
    "print(\"min : max\")\n",
    "print(x_min)\n",
    "print(x_max)\n",
    "\n",
    "print(\"normalized data\")\n",
    "X = (X-x_min)/ (x_max - x_min)\n",
    "print(X)"
   ]
  },
  {
   "cell_type": "markdown",
   "metadata": {},
   "source": [
    "### Q8. Save your preprocessed data into a csv file. Submit your code and the preprocessed data."
   ]
  },
  {
   "cell_type": "code",
   "execution_count": 43,
   "metadata": {},
   "outputs": [],
   "source": [
    "data.to_csv('norm.csv')\n"
   ]
  }
 ],
 "metadata": {
  "kernelspec": {
   "display_name": "Python 3",
   "language": "python",
   "name": "python3"
  },
  "language_info": {
   "codemirror_mode": {
    "name": "ipython",
    "version": 3
   },
   "file_extension": ".py",
   "mimetype": "text/x-python",
   "name": "python",
   "nbconvert_exporter": "python",
   "pygments_lexer": "ipython3",
   "version": "3.7.1"
  }
 },
 "nbformat": 4,
 "nbformat_minor": 2
}