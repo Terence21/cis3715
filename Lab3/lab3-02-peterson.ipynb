{
 "cells": [
  {
   "cell_type": "markdown",
   "metadata": {},
   "source": [
    "# Lab 3: Data Preprocessing"
   ]
  },
  {
   "cell_type": "markdown",
   "metadata": {},
   "source": [
    "In this assignment, we will learn how to explore the raw data and preprocess it. \n",
    "\n",
    "The dataset we are going to exlore is an insurance data. It provides different features of each user as follows:\n",
    "* age: age of the user\n",
    "* sex: gender of the user\n",
    "* bmi: body mass index, providing an understanding of body\n",
    "* children: number of children covered by health insurance / number of dependents\n",
    "* smoker: smoker or not\n",
    "* region: the user's residential area in the US, northeast, southeast, southwest, northwest.\n",
    "\n",
    "Additionally, the medical cost of each user is also provided: \n",
    "* charges: the medical cost \n",
    "\n",
    "Please follow Lecture 5_data_understanding and Lecture 6_data_preprocessing to complete following questions. "
   ]
  },
  {
   "cell_type": "markdown",
   "metadata": {},
   "source": [
    "### Q1. Load data with Pandas and output the basic information of this dataset, such as the features and their data types.  Which features are numerical features and which users are categorical features?\n",
    "\n",
    "- categorical features include, sex, smoker, and region while numerical features include age, bmi, children, and charges"
   ]
  },
  {
   "cell_type": "code",
   "execution_count": 54,
   "metadata": {},
   "outputs": [
    {
     "name": "stdout",
     "output_type": "stream",
     "text": [
      "<class 'pandas.core.frame.DataFrame'>\n",
      "RangeIndex: 1338 entries, 0 to 1337\n",
      "Data columns (total 7 columns):\n",
      " #   Column    Non-Null Count  Dtype  \n",
      "---  ------    --------------  -----  \n",
      " 0   age       1338 non-null   int64  \n",
      " 1   sex       1338 non-null   object \n",
      " 2   bmi       1338 non-null   float64\n",
      " 3   children  1338 non-null   int64  \n",
      " 4   smoker    1338 non-null   object \n",
      " 5   region    1338 non-null   object \n",
      " 6   charges   1338 non-null   float64\n",
      "dtypes: float64(2), int64(2), object(3)\n",
      "memory usage: 73.3+ KB\n"
     ]
    }
   ],
   "source": [
    "import numpy as np\n",
    "import pandas as pd\n",
    "\n",
    "\n",
    "data = pd.read_csv(\"insurance.csv\")\n",
    "data.info()\n",
    "# your code\n"
   ]
  },
  {
   "cell_type": "markdown",
   "metadata": {},
   "source": [
    "### Q2. Check whether there are missing values in this dataset."
   ]
  },
  {
   "cell_type": "code",
   "execution_count": 55,
   "metadata": {},
   "outputs": [
    {
     "data": {
      "text/plain": "age         0\nsex         0\nbmi         0\nchildren    0\nsmoker      0\nregion      0\ncharges     0\ndtype: int64"
     },
     "execution_count": 55,
     "metadata": {},
     "output_type": "execute_result"
    }
   ],
   "source": [
    "data.isnull().sum()\n",
    "# your code"
   ]
  },
  {
   "cell_type": "markdown",
   "metadata": {},
   "source": [
    "### Q3. Visualize all numerical features with histogram plot to see the distribution of each numerical feature. \n"
   ]
  },
  {
   "cell_type": "code",
   "execution_count": 56,
   "metadata": {},
   "outputs": [
    {
     "data": {
      "text/plain": "<Figure size 1440x1080 with 4 Axes>",
      "image/png": "[encoded data removed]"
     },
     "metadata": {
      "needs_background": "light"
     },
     "output_type": "display_data"
    }
   ],
   "source": [
    "import matplotlib.pyplot as plt\n",
    "\n",
    "data.hist(bins=50, figsize=(20,15))\n",
    "plt.show()\n",
    "# your code\n",
    "\n"
   ]
  },
  {
   "cell_type": "markdown",
   "metadata": {},
   "source": [
    "### Q4. Use corr() function of Pandas to show the correlation between different numerical features"
   ]
  },
  {
   "cell_type": "code",
   "execution_count": 57,
   "metadata": {},
   "outputs": [
    {
     "data": {
      "text/plain": "<pandas.io.formats.style.Styler at 0x2e04e480c10>",
      "text/html": "<style  type=\"text/css\" >\n#T_00dd0_row0_col0,#T_00dd0_row1_col1,#T_00dd0_row2_col2,#T_00dd0_row3_col3{\n            background-color:  #023858;\n            color:  #f1f1f1;\n        }#T_00dd0_row0_col1{\n            background-color:  #f0eaf4;\n            color:  #000000;\n        }#T_00dd0_row0_col2{\n            background-color:  #fbf3f9;\n            color:  #000000;\n        }#T_00dd0_row0_col3{\n            background-color:  #d1d2e6;\n            color:  #000000;\n        }#T_00dd0_row1_col0{\n            background-color:  #f5eef6;\n            color:  #000000;\n        }#T_00dd0_row1_col2,#T_00dd0_row2_col0,#T_00dd0_row2_col1,#T_00dd0_row2_col3{\n            background-color:  #fff7fb;\n            color:  #000000;\n        }#T_00dd0_row1_col3{\n            background-color:  #e9e5f1;\n            color:  #000000;\n        }#T_00dd0_row3_col0{\n            background-color:  #cacee5;\n            color:  #000000;\n        }#T_00dd0_row3_col1{\n            background-color:  #dedcec;\n            color:  #000000;\n        }#T_00dd0_row3_col2{\n            background-color:  #f7f0f7;\n            color:  #000000;\n        }</style><table id=\"T_00dd0_\" ><thead>    <tr>        <th class=\"blank level0\" ></th>        <th class=\"col_heading level0 col0\" >age</th>        <th class=\"col_heading level0 col1\" >bmi</th>        <th class=\"col_heading level0 col2\" >children</th>        <th class=\"col_heading level0 col3\" >charges</th>    </tr></thead><tbody>\n                <tr>\n                        <th id=\"T_00dd0_level0_row0\" class=\"row_heading level0 row0\" >age</th>\n                        <td id=\"T_00dd0_row0_col0\" class=\"data row0 col0\" >1.000000</td>\n                        <td id=\"T_00dd0_row0_col1\" class=\"data row0 col1\" >0.109272</td>\n                        <td id=\"T_00dd0_row0_col2\" class=\"data row0 col2\" >0.042469</td>\n                        <td id=\"T_00dd0_row0_col3\" class=\"data row0 col3\" >0.299008</td>\n            </tr>\n            <tr>\n                        <th id=\"T_00dd0_level0_row1\" class=\"row_heading level0 row1\" >bmi</th>\n                        <td id=\"T_00dd0_row1_col0\" class=\"data row1 col0\" >0.109272</td>\n                        <td id=\"T_00dd0_row1_col1\" class=\"data row1 col1\" >1.000000</td>\n                        <td id=\"T_00dd0_row1_col2\" class=\"data row1 col2\" >0.012759</td>\n                        <td id=\"T_00dd0_row1_col3\" class=\"data row1 col3\" >0.198341</td>\n            </tr>\n            <tr>\n                        <th id=\"T_00dd0_level0_row2\" class=\"row_heading level0 row2\" >children</th>\n                        <td id=\"T_00dd0_row2_col0\" class=\"data row2 col0\" >0.042469</td>\n                        <td id=\"T_00dd0_row2_col1\" class=\"data row2 col1\" >0.012759</td>\n                        <td id=\"T_00dd0_row2_col2\" class=\"data row2 col2\" >1.000000</td>\n                        <td id=\"T_00dd0_row2_col3\" class=\"data row2 col3\" >0.067998</td>\n            </tr>\n            <tr>\n                        <th id=\"T_00dd0_level0_row3\" class=\"row_heading level0 row3\" >charges</th>\n                        <td id=\"T_00dd0_row3_col0\" class=\"data row3 col0\" >0.299008</td>\n                        <td id=\"T_00dd0_row3_col1\" class=\"data row3 col1\" >0.198341</td>\n                        <td id=\"T_00dd0_row3_col2\" class=\"data row3 col2\" >0.067998</td>\n                        <td id=\"T_00dd0_row3_col3\" class=\"data row3 col3\" >1.000000</td>\n            </tr>\n    </tbody></table>"
     },
     "execution_count": 57,
     "metadata": {},
     "output_type": "execute_result"
    }
   ],
   "source": [
    "correlation = data.corr()\n",
    "correlation.style.background_gradient()\n",
    "# your code\n"
   ]
  },
  {
   "cell_type": "markdown",
   "metadata": {},
   "source": [
    "### Q5. For all categorical features, use bar plot to visualize the number of users within each category."
   ]
  },
  {
   "cell_type": "code",
   "execution_count": 58,
   "metadata": {},
   "outputs": [
    {
     "data": {
      "text/plain": "<Figure size 432x288 with 1 Axes>",
      "image/png": "[encoded data removed]"
     },
     "metadata": {
      "needs_background": "light"
     },
     "output_type": "display_data"
    },
    {
     "data": {
      "text/plain": "<Figure size 432x288 with 1 Axes>",
      "image/png": "[encoded data removed]"
     },
     "metadata": {
      "needs_background": "light"
     },
     "output_type": "display_data"
    },
    {
     "data": {
      "text/plain": "<Figure size 432x288 with 1 Axes>",
      "image/png": "[encoded data removed]"
     },
     "metadata": {
      "needs_background": "light"
     },
     "output_type": "display_data"
    }
   ],
   "source": [
    "data['sex'].value_counts().plot(kind= 'bar')\n",
    "plt.title('SEX')\n",
    "plt.show()\n",
    "data['smoker'].value_counts().plot(kind= 'bar')\n",
    "plt.title('SMOKER')\n",
    "plt.show()\n",
    "data['region'].value_counts().plot(kind= 'bar')\n",
    "plt.title('REGION')\n",
    "plt.show()\n",
    "\n",
    "# your code"
   ]
  },
  {
   "cell_type": "markdown",
   "metadata": {},
   "source": [
    "### Q6. Convert all categorical features into numerical features with Label Encoding or One-Hot Encoding"
   ]
  },
  {
   "cell_type": "code",
   "execution_count": 59,
   "metadata": {},
   "outputs": [
    {
     "name": "stdout",
     "output_type": "stream",
     "text": [
      "1    676\n",
      "0    662\n",
      "Name: sex, dtype: int64\n",
      "\n",
      "\n",
      "\n",
      "\n",
      "0    1064\n",
      "1     274\n",
      "Name: smoker, dtype: int64\n",
      "\n",
      "\n",
      "\n",
      "\n",
      "2    364\n",
      "1    325\n",
      "3    325\n",
      "0    324\n",
      "Name: region, dtype: int64\n",
      "\n",
      "\n",
      "\n",
      "\n"
     ]
    }
   ],
   "source": [
    "from sklearn.preprocessing import LabelEncoder\n",
    "# your code\n",
    "labelencoder = LabelEncoder()\n",
    "\n",
    "data['sex'] = labelencoder.fit_transform(data['sex'])\n",
    "print(data['sex'].value_counts())\n",
    "print('\\n\\n\\n')\n",
    "\n",
    "data['smoker'] = labelencoder.fit_transform(data['smoker'])\n",
    "print(data['smoker'].value_counts())\n",
    "print('\\n\\n\\n')\n",
    "\n",
    "data['region'] = labelencoder.fit_transform(data['region'])\n",
    "print(data['region'].value_counts())\n",
    "print('\\n\\n\\n')\n",
    "\n"
   ]
  },
  {
   "cell_type": "markdown",
   "metadata": {},
   "source": [
    "### Q7. Normalize all numerical features"
   ]
  },
  {
   "cell_type": "code",
   "execution_count": 60,
   "metadata": {},
   "outputs": [
    {
     "name": "stdout",
     "output_type": "stream",
     "text": [
      "min : max\n",
      "[  18.        0.       15.96      0.        0.        0.     1121.8739]\n",
      "[6.400e+01 1.000e+00 5.313e+01 5.000e+00 1.000e+00 3.000e+00 6.377e+04]\n",
      "normalized data\n",
      "[[0.0217 0.     0.3212 ... 1.     1.     0.2516]\n",
      " [0.     1.     0.4791 ... 0.     0.6667 0.0096]\n",
      " [0.2174 1.     0.4584 ... 0.     0.6667 0.0531]\n",
      " ...\n",
      " [0.     0.     0.562  ... 0.     0.6667 0.0081]\n",
      " [0.0652 0.     0.2647 ... 0.     1.     0.0141]\n",
      " [0.9348 0.     0.3527 ... 1.     0.3333 0.4472]]\n"
     ]
    }
   ],
   "source": [
    "from sklearn.preprocessing import  OneHotEncoder\n",
    "np.set_printoptions(precision=4)\n",
    "# your code\n",
    "X = data.values[ :, :].astype(dtype=np.float32)\n",
    "x_min = X.min(axis=0)\n",
    "x_max= X.max(axis=0)\n",
    "print(\"min : max\")\n",
    "print(x_min)\n",
    "print(x_max)\n",
    "\n",
    "print(\"normalized data\")\n",
    "X = (X-x_min)/ (x_max - x_min)\n",
    "print(X)"
   ]
  },
  {
   "cell_type": "markdown",
   "metadata": {},
   "source": [
    "### Q8. Save your preprocessed data into a csv file. Submit your code and the preprocessed data."
   ]
  },
  {
   "cell_type": "code",
   "execution_count": 61,
   "metadata": {},
   "outputs": [],
   "source": [
    "data.to_csv('norm.csv')\n"
   ]
  }
 ],
 "metadata": {
  "kernelspec": {
   "display_name": "Python 3",
   "language": "python",
   "name": "python3"
  },
  "language_info": {
   "codemirror_mode": {
    "name": "ipython",
    "version": 3
   },
   "file_extension": ".py",
   "mimetype": "text/x-python",
   "name": "python",
   "nbconvert_exporter": "python",
   "pygments_lexer": "ipython3",
   "version": "3.7.1"
  }
 },
 "nbformat": 4,
 "nbformat_minor": 2
}